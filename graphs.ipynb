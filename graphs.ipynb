{
 "cells": [
  {
   "cell_type": "markdown",
   "metadata": {},
   "source": [
    "This notebook uses the results of visualize.ipynb to plot training progress for each experimental setting."
   ]
  },
  {
   "cell_type": "code",
   "execution_count": 1,
   "metadata": {
    "collapsed": true
   },
   "outputs": [],
   "source": [
    "import os\n",
    "import csv\n",
    "import numpy as np\n",
    "import pandas as pd\n",
    "import matplotlib.pyplot as plt\n",
    "from tensorflow.tensorboard.backend.event_processing.event_accumulator import EventAccumulator"
   ]
  },
  {
   "cell_type": "code",
   "execution_count": 2,
   "metadata": {
    "collapsed": true
   },
   "outputs": [],
   "source": [
    "prefixes = ['']\n",
    "for i in range(10):\n",
    "    prefixes.append(i)\n",
    "    \n",
    "template = r'.\\logs\\run{}'"
   ]
  },
  {
   "cell_type": "code",
   "execution_count": 11,
   "metadata": {
    "collapsed": true
   },
   "outputs": [],
   "source": [
    "experiments = [] # (train, test)\n",
    "\n",
    "for prefix in prefixes:\n",
    "    path = template.format(prefix)\n",
    "    file = os.listdir(path)[0]\n",
    "    \n",
    "    accumulator = EventAccumulator(os.path.join(path, file))\n",
    "    accumulator.Reload()\n",
    "    \n",
    "    df = pd.DataFrame(accumulator.Scalars('minibatch/test_avg_metric'))\n",
    "    test = df.values[:, 2]\n",
    "    \n",
    "    df = pd.DataFrame(accumulator.Scalars('summary/avg_metric'))\n",
    "    train = df.values[:, 2]\n",
    "    \n",
    "    experiments.append((train, test))"
   ]
  },
  {
   "cell_type": "code",
   "execution_count": 14,
   "metadata": {},
   "outputs": [],
   "source": [
    "for i in range(len(prefixes)):\n",
    "    prefix = prefixes[i]\n",
    "    train, test = experiments[i]\n",
    "    if prefix == '':\n",
    "        title = 'Signer-dependent Experiment'\n",
    "    else:\n",
    "        title = 'Signer-independent Experiment for User {}'.format(prefix + 1)\n",
    "    \n",
    "    x = np.arange(len(train))\n",
    "    plt.figure()\n",
    "    plt.plot(x, train, label='training')\n",
    "    plt.plot(x, test, label='test')\n",
    "    plt.xlabel('Epoch')\n",
    "    plt.ylabel('Error')\n",
    "    plt.title(title)\n",
    "    plt.legend()\n",
    "    plt.savefig('images/experiment{}'.format(prefix))"
   ]
  },
  {
   "cell_type": "code",
   "execution_count": null,
   "metadata": {
    "collapsed": true
   },
   "outputs": [],
   "source": []
  }
 ],
 "metadata": {
  "kernelspec": {
   "display_name": "Python 3",
   "language": "python",
   "name": "python3"
  },
  "language_info": {
   "codemirror_mode": {
    "name": "ipython",
    "version": 3
   },
   "file_extension": ".py",
   "mimetype": "text/x-python",
   "name": "python",
   "nbconvert_exporter": "python",
   "pygments_lexer": "ipython3",
   "version": "3.5.2"
  }
 },
 "nbformat": 4,
 "nbformat_minor": 2
}
