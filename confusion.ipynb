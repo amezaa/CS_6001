{
 "cells": [
  {
   "cell_type": "markdown",
   "metadata": {},
   "source": [
    "This notebook uses the results of visualize.ipynb to plot confusion matrices for each experimental setting."
   ]
  },
  {
   "cell_type": "code",
   "execution_count": 1,
   "metadata": {
    "collapsed": true
   },
   "outputs": [],
   "source": [
    "import os\n",
    "import json\n",
    "import numpy as np\n",
    "import pandas as pd\n",
    "import seaborn as sns\n",
    "import matplotlib.pyplot as plt\n",
    "from sklearn.metrics import confusion_matrix"
   ]
  },
  {
   "cell_type": "code",
   "execution_count": 2,
   "metadata": {
    "collapsed": true
   },
   "outputs": [],
   "source": [
    "result_dir = './results'"
   ]
  },
  {
   "cell_type": "code",
   "execution_count": 7,
   "metadata": {
    "collapsed": true
   },
   "outputs": [],
   "source": [
    "# Load the labels\n",
    "with open('./output/label.json', 'r') as jfile:\n",
    "    label_dict = json.load(jfile)\n",
    "\n",
    "pairs = sorted([(k, label_dict[k]) for k in label_dict], key=lambda x: x[1])\n",
    "classes = [k[0] for k in pairs]"
   ]
  },
  {
   "cell_type": "code",
   "execution_count": 8,
   "metadata": {
    "collapsed": true
   },
   "outputs": [],
   "source": [
    "prefixes = ['']\n",
    "for i in range(10):\n",
    "    prefixes.append(i)"
   ]
  },
  {
   "cell_type": "code",
   "execution_count": 9,
   "metadata": {},
   "outputs": [],
   "source": [
    "for prefix in prefixes:\n",
    "    with open(os.path.join(result_dir, 'result{}.json'.format(prefix)), 'r') as jfile:\n",
    "        result = json.load(jfile)\n",
    "        \n",
    "    # Isolate the targets and predictions\n",
    "    target = [int(entry[0]) for entry in result]\n",
    "    prediction = [int(entry[1]) for entry in result]\n",
    "    \n",
    "    # Plot and save the confusion matrix\n",
    "    matrix = confusion_matrix(target, prediction)\n",
    "    df_cm = pd.DataFrame(matrix, classes, classes)\n",
    "    \n",
    "    plt.figure(figsize=(32, 32))\n",
    "    sns.set(font_scale=1.0)\n",
    "    sns.heatmap(df_cm, annot=True, annot_kws={\"size\": 12})\n",
    "    plt.savefig(os.path.join(result_dir, 'confusion{}.png'.format(prefix)))\n",
    "    "
   ]
  },
  {
   "cell_type": "code",
   "execution_count": null,
   "metadata": {
    "collapsed": true
   },
   "outputs": [],
   "source": []
  }
 ],
 "metadata": {
  "kernelspec": {
   "display_name": "Python 3",
   "language": "python",
   "name": "python3"
  },
  "language_info": {
   "codemirror_mode": {
    "name": "ipython",
    "version": 3
   },
   "file_extension": ".py",
   "mimetype": "text/x-python",
   "name": "python",
   "nbconvert_exporter": "python",
   "pygments_lexer": "ipython3",
   "version": "3.5.2"
  }
 },
 "nbformat": 4,
 "nbformat_minor": 2
}
